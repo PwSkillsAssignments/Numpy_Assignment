{
 "cells": [
  {
   "cell_type": "code",
   "execution_count": 1,
   "id": "e317fb91",
   "metadata": {},
   "outputs": [],
   "source": [
    "import numpy as np "
   ]
  },
  {
   "cell_type": "code",
   "execution_count": 10,
   "id": "aedaeae5",
   "metadata": {},
   "outputs": [],
   "source": [
    "list_ = [ '1' , '2' , '3' , '4' , '5' ]\n",
    "\n",
    "array_list = np.array(list_)"
   ]
  },
  {
   "cell_type": "code",
   "execution_count": 11,
   "id": "49843d98",
   "metadata": {},
   "outputs": [
    {
     "data": {
      "text/plain": [
       "array(['1', '2', '3', '4', '5'], dtype='<U1')"
      ]
     },
     "execution_count": 11,
     "metadata": {},
     "output_type": "execute_result"
    }
   ],
   "source": [
    "array_list"
   ]
  },
  {
   "cell_type": "markdown",
   "id": "5a3ce6cc",
   "metadata": {},
   "source": [
    "# Q1. Is there any difference in the data type of variables list_ and array_list? If there is then write a code \n",
    "# to print the data types of both the variables"
   ]
  },
  {
   "cell_type": "code",
   "execution_count": 12,
   "id": "f521df62",
   "metadata": {},
   "outputs": [
    {
     "data": {
      "text/plain": [
       "list"
      ]
     },
     "execution_count": 12,
     "metadata": {},
     "output_type": "execute_result"
    }
   ],
   "source": [
    "type(list_)"
   ]
  },
  {
   "cell_type": "code",
   "execution_count": 14,
   "id": "d7833b71",
   "metadata": {},
   "outputs": [
    {
     "data": {
      "text/plain": [
       "numpy.ndarray"
      ]
     },
     "execution_count": 14,
     "metadata": {},
     "output_type": "execute_result"
    }
   ],
   "source": [
    "type(array_list)"
   ]
  },
  {
   "cell_type": "markdown",
   "id": "c615fd79",
   "metadata": {},
   "source": [
    "# Q2. Write a code to print the data type of each and every element of both the variables list_ and \n",
    "# arra_list."
   ]
  },
  {
   "cell_type": "code",
   "execution_count": 15,
   "id": "58c038b1",
   "metadata": {},
   "outputs": [
    {
     "name": "stdout",
     "output_type": "stream",
     "text": [
      "<class 'list'>\n",
      "<class 'numpy.ndarray'>\n"
     ]
    }
   ],
   "source": [
    "print(type(list_))\n",
    "print(type(array_list))"
   ]
  },
  {
   "cell_type": "markdown",
   "id": "1436804a",
   "metadata": {},
   "source": [
    "# Will there be any difference in the data type of the elements present in both the variables, list_ and \n",
    "# arra_list? If so then print the data types of each and every element present in both the variables, list_ \n",
    "# and arra_list"
   ]
  },
  {
   "cell_type": "code",
   "execution_count": 16,
   "id": "18567169",
   "metadata": {},
   "outputs": [],
   "source": [
    "array_list = np.array(object = list_, dtype = int)"
   ]
  },
  {
   "cell_type": "code",
   "execution_count": 18,
   "id": "5768c5dd",
   "metadata": {},
   "outputs": [
    {
     "name": "stdout",
     "output_type": "stream",
     "text": [
      "<class 'list'>\n",
      "<class 'numpy.ndarray'>\n"
     ]
    }
   ],
   "source": [
    "print(type(list_))\n",
    "print(type(array_list))"
   ]
  },
  {
   "cell_type": "code",
   "execution_count": 19,
   "id": "e47ca288",
   "metadata": {},
   "outputs": [],
   "source": [
    "import numpy as np\n",
    "\n",
    "num_list = [ [ 1 , 2 , 3 ] , [ 4 , 5 , 6 ] ]\n",
    "\n",
    "num_array = np.array(object = num_list)"
   ]
  },
  {
   "cell_type": "markdown",
   "id": "e6e1d1d5",
   "metadata": {},
   "source": [
    "# Q4. Write a code to find the following characteristics of variable, num_array:\n",
    "\n",
    "# (i)\t shape\n",
    "\n",
    "# (ii) size"
   ]
  },
  {
   "cell_type": "code",
   "execution_count": 20,
   "id": "3554dba0",
   "metadata": {},
   "outputs": [
    {
     "data": {
      "text/plain": [
       "(2, 3)"
      ]
     },
     "execution_count": 20,
     "metadata": {},
     "output_type": "execute_result"
    }
   ],
   "source": [
    "num_array.shape"
   ]
  },
  {
   "cell_type": "code",
   "execution_count": 21,
   "id": "498b2b61",
   "metadata": {},
   "outputs": [
    {
     "data": {
      "text/plain": [
       "6"
      ]
     },
     "execution_count": 21,
     "metadata": {},
     "output_type": "execute_result"
    }
   ],
   "source": [
    "num_array.size"
   ]
  },
  {
   "cell_type": "markdown",
   "id": "3d1bce0c",
   "metadata": {},
   "source": [
    "# Q5. Write a code to create numpy array of 3*3 matrix containing zeros only, using a numpy array \n",
    "# creation function.\n",
    "\n",
    "# [Hint: The size of the array will be 9 and the shape will be (3,3).]"
   ]
  },
  {
   "cell_type": "code",
   "execution_count": 23,
   "id": "43348753",
   "metadata": {},
   "outputs": [],
   "source": [
    "zeros_np = np.zeros((3,3))"
   ]
  },
  {
   "cell_type": "code",
   "execution_count": 24,
   "id": "cdd2fa3e",
   "metadata": {},
   "outputs": [
    {
     "data": {
      "text/plain": [
       "(3, 3)"
      ]
     },
     "execution_count": 24,
     "metadata": {},
     "output_type": "execute_result"
    }
   ],
   "source": [
    "zeros_np.shape"
   ]
  },
  {
   "cell_type": "code",
   "execution_count": 25,
   "id": "1eb8dea6",
   "metadata": {},
   "outputs": [
    {
     "data": {
      "text/plain": [
       "9"
      ]
     },
     "execution_count": 25,
     "metadata": {},
     "output_type": "execute_result"
    }
   ],
   "source": [
    "zeros_np.size"
   ]
  },
  {
   "cell_type": "markdown",
   "id": "84e6c0a8",
   "metadata": {},
   "source": [
    "# Q6. Create an identity matrix of shape (5,5) using numpy functions?\n",
    "\n",
    "# [Hint: An identity matrix is a matrix containing 1 diagonally and other elements will be 0.]"
   ]
  },
  {
   "cell_type": "code",
   "execution_count": 28,
   "id": "1df02557",
   "metadata": {},
   "outputs": [
    {
     "name": "stdout",
     "output_type": "stream",
     "text": [
      "[[1. 0. 0. 0. 0.]\n",
      " [0. 1. 0. 0. 0.]\n",
      " [0. 0. 1. 0. 0.]\n",
      " [0. 0. 0. 1. 0.]\n",
      " [0. 0. 0. 0. 1.]]\n"
     ]
    }
   ],
   "source": [
    "identity_mat = np.eye(5,5)\n",
    "print(identity_mat)"
   ]
  },
  {
   "cell_type": "code",
   "execution_count": null,
   "id": "811822ab",
   "metadata": {},
   "outputs": [],
   "source": []
  }
 ],
 "metadata": {
  "kernelspec": {
   "display_name": "Python 3 (ipykernel)",
   "language": "python",
   "name": "python3"
  },
  "language_info": {
   "codemirror_mode": {
    "name": "ipython",
    "version": 3
   },
   "file_extension": ".py",
   "mimetype": "text/x-python",
   "name": "python",
   "nbconvert_exporter": "python",
   "pygments_lexer": "ipython3",
   "version": "3.9.12"
  }
 },
 "nbformat": 4,
 "nbformat_minor": 5
}
